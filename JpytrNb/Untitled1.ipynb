{
 "cells": [
  {
   "cell_type": "code",
   "execution_count": 1,
   "metadata": {},
   "outputs": [],
   "source": [
    "import numpy as np\n",
    "import h5py\n",
    "import json\n",
    "import sys\n",
    "sys.path.append('F:\\Linux')\n",
    "import illustris_python as il\n",
    "from datetime import datetime\n",
    "\n",
    "import matplotlib.pyplot as plt"
   ]
  },
  {
   "cell_type": "code",
   "execution_count": 2,
   "metadata": {},
   "outputs": [],
   "source": [
    "A2list = np.load('f:/Linux/localRUN/il1_A2withRedshift.npy',allow_pickle=1).item()"
   ]
  },
  {
   "cell_type": "code",
   "execution_count": 4,
   "metadata": {},
   "outputs": [],
   "source": [
    "Redshift = [0, 0.1, 0.2, 0.3, 0.4, 0.5, 0.7, 1.0, 1.5, 2.0]"
   ]
  },
  {
   "cell_type": "code",
   "execution_count": 10,
   "metadata": {},
   "outputs": [],
   "source": [
    "def zbar(haloID, A2list):\n",
    "    #return bar origin redshift\n",
    "    Redshift = [0, 0.1, 0.2, 0.3, 0.4, 0.5, 0.6, 0.7, 0.8, 0.9, 1.0, 1.1, 1.2, 1.3, 1.4, 1.5, 1.6, 1.7, 1.8, 1.9, 2.0]\n",
    "    A2 = np.array(A2list[haloID])\n",
    "    z=0\n",
    "    for i in range(1,len(Redshift)): \n",
    "        if A2[i] < 0.15:\n",
    "            break\n",
    "        z += 1\n",
    "    while z != 0:\n",
    "        if abs((A2[z] - A2[z - 1]) / A2[z]) <= 0.4:\n",
    "            break\n",
    "        z -= 1\n",
    "    return Redshift[z]"
   ]
  },
  {
   "cell_type": "code",
   "execution_count": 13,
   "metadata": {},
   "outputs": [
    {
     "data": {
      "text/plain": [
       "110"
      ]
     },
     "execution_count": 13,
     "metadata": {},
     "output_type": "execute_result"
    }
   ],
   "source": [
    "len(A2list)"
   ]
  },
  {
   "cell_type": "code",
   "execution_count": 12,
   "metadata": {},
   "outputs": [],
   "source": [
    "for haloID in A2list.keys():\n",
    "    plt.plot(Redshift, A2list[haloID])\n",
    "    plt.title(\"%d\"%haloID)\n",
    "    try:\n",
    "        plt.plot(np.ones(10)*zbar(haloID, A2list), np.linspace(0,1,10), ls = '-.')\n",
    "    except:\n",
    "        plt.ylim(0,0.7)\n",
    "        plt.savefig('F:/Linux/local_result/barfig/il1_A2list/%d.png'%haloID)\n",
    "        plt.close()\n",
    "        continue\n",
    "        \n",
    "    plt.ylim(0,0.7)\n",
    "    plt.savefig('F:/Linux/local_result/barfig/il1_A2list/%d.png'%haloID)\n",
    "    \n",
    "    plt.close()"
   ]
  },
  {
   "cell_type": "code",
   "execution_count": null,
   "metadata": {},
   "outputs": [],
   "source": []
  }
 ],
 "metadata": {
  "kernelspec": {
   "display_name": "Python 3",
   "language": "python",
   "name": "python3"
  },
  "language_info": {
   "codemirror_mode": {
    "name": "ipython",
    "version": 3
   },
   "file_extension": ".py",
   "mimetype": "text/x-python",
   "name": "python",
   "nbconvert_exporter": "python",
   "pygments_lexer": "ipython3",
   "version": "3.7.1"
  }
 },
 "nbformat": 4,
 "nbformat_minor": 2
}
