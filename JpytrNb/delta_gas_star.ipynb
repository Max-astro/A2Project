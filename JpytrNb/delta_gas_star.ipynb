{
 "cells": [
  {
   "cell_type": "code",
   "execution_count": 1,
   "metadata": {
    "scrolled": true
   },
   "outputs": [
    {
     "name": "stderr",
     "output_type": "stream",
     "text": [
      "d:\\Anaconda3\\lib\\site-packages\\ipykernel_launcher.py:52: RuntimeWarning: divide by zero encountered in log10\n",
      "d:\\Anaconda3\\lib\\site-packages\\ipykernel_launcher.py:56: RuntimeWarning: divide by zero encountered in log10\n",
      "d:\\Anaconda3\\lib\\site-packages\\ipykernel_launcher.py:68: RuntimeWarning: divide by zero encountered in log10\n",
      "d:\\Anaconda3\\lib\\site-packages\\ipykernel_launcher.py:72: RuntimeWarning: divide by zero encountered in log10\n"
     ]
    }
   ],
   "source": [
    "import numpy as np\n",
    "import h5py\n",
    "import matplotlib.pyplot as plt\n",
    "import os\n",
    "import sys\n",
    "import json\n",
    "sys.path.append('F:\\Linux')\n",
    "import illustris_python as il\n",
    "\n",
    "def LoadMergHist(simu, subhaloID):\n",
    "    '''\n",
    "    return subhalo's main progenitor and merger history with snapshot\n",
    "    '''\n",
    "    if simu == 'TNG':\n",
    "        ldir = 'f:/Linux/localRUN/tng_DiskMerTree/%d.json' % subhaloID\n",
    "    else:\n",
    "        ldir = 'f:/Linux/localRUN/il1_DiskMerTree/%d.json' % subhaloID\n",
    "    \n",
    "    with open(ldir) as f:\n",
    "        data = json.load(f)\n",
    "    \n",
    "    Main = np.array(data['Main'])\n",
    "    return dict(zip(Main[:, 0], Main[:, 1])), np.array(data['Mergers'])\n",
    "\n",
    "def ErrorBarMedian(data):\n",
    "    #return 25%, 50%, 75%\n",
    "    if len(data) == 0:\n",
    "        return 0, 0, 0\n",
    "    elif len(data) < 3:\n",
    "        return 0, np.median(data), 0\n",
    "    else:\n",
    "        data.sort()\n",
    "        return data[int(len(data) / 4)], np.median(data), data[int(len(data) * 0.75)]\n",
    "\n",
    "\n",
    "tng_barID = np.load('f:/Linux/localRUN/barredID_4WP_TNG.npy')\n",
    "tng_diskID = np.load('f:/Linux/localRUN/diskID_4WP.npy')\n",
    "il1_barID = np.load('f:/Linux/localRUN/barredID_il1.npy')\n",
    "il1_diskID = np.load('f:/Linux/localRUN/diskID_il1.npy')\n",
    "\n",
    "il1_snapshot = [135, 127, 120, 113, 103, 108, 95, 85, 75, 68]\n",
    "tng_snapshot = [99, 91, 84, 78, 72, 67, 59, 50, 40, 33]\n",
    "Redshift = [0, 0.1, 0.2, 0.3, 0.4, 0.5, 0.7, 1.0, 1.5, 2.0]\n",
    "il1_toZ = dict(zip(il1_snapshot, Redshift))\n",
    "tng_toZ = dict(zip(tng_snapshot, Redshift))\n",
    "\n",
    "il1_star = {}\n",
    "il1_gas = {}\n",
    "for snap in il1_snapshot:\n",
    "    data = il.func.loadSubhalos('il1', snap, 'SubhaloMassInRadType') / 0.704\n",
    "    star = data[:, 4]\n",
    "    star = np.log10(star * 10 ** 10)\n",
    "    star[np.isinf(star)] = 0\n",
    "\n",
    "    gas = data[:, 0]\n",
    "    gas = np.log10(gas * 10 ** 10)\n",
    "    gas[np.isinf(gas)] = 0\n",
    "\n",
    "    il1_star[snap] = star\n",
    "    il1_gas[snap] = gas\n",
    "\n",
    "\n",
    "tng_star = {}\n",
    "tng_gas = {}\n",
    "for snap in tng_snapshot:\n",
    "    data = il.func.loadSubhalos('TNG', snap, 'SubhaloMassInRadType') / 0.6774\n",
    "    star = data[:, 4]\n",
    "    star = np.log10(star * 10 ** 10)\n",
    "    star[np.isinf(star)] = 0\n",
    "\n",
    "    gas = data[:, 0]\n",
    "    gas = np.log10(gas * 10 ** 10)\n",
    "    gas[np.isinf(gas)] = 0\n",
    "\n",
    "    tng_star[snap] = star\n",
    "    tng_gas[snap] = gas"
   ]
  },
  {
   "cell_type": "code",
   "execution_count": 17,
   "metadata": {},
   "outputs": [],
   "source": [
    "gasWithZ = {}\n",
    "starWithZ = {}\n",
    "for x in Redshift:\n",
    "    gasWithZ[x] = []\n",
    "    starWithZ[x] = []"
   ]
  },
  {
   "cell_type": "code",
   "execution_count": 18,
   "metadata": {},
   "outputs": [],
   "source": [
    "ids = il1_diskID\n",
    "for subID in ids:\n",
    "    gas = []\n",
    "    star = []\n",
    "    prog = LoadMergHist('il1', subID)[0]\n",
    "    plot = 1\n",
    "    for snap in il1_snapshot:\n",
    "        try:\n",
    "            haloID = prog[snap]\n",
    "        except:\n",
    "            plot = 0\n",
    "            break\n",
    "        gas.append(il1_gas[snap][haloID])\n",
    "        star.append(il1_star[snap][haloID])\n",
    "    if plot:\n",
    "        delta_gas = [gas[i] - gas[i+1] for i in range(len(gas)-1)] \n",
    "        delta_star = [star[i] - star[i + 1] for i in range(len(star) - 1)]\n",
    "        for i in range(len(delta_gas)):\n",
    "            gasWithZ[Redshift[i]].append(delta_gas[i])\n",
    "            starWithZ[Redshift[i]].append(delta_star[i])"
   ]
  },
  {
   "cell_type": "code",
   "execution_count": 20,
   "metadata": {},
   "outputs": [],
   "source": [
    "gasdata = [[], [], []]\n",
    "stardata = [[], [], []]\n",
    "for i in range(len(delta_gas)):\n",
    "    d0, d1, d2 = ErrorBarMedian(gasWithZ[Redshift[i]])\n",
    "    gasdata[0].append(d0)\n",
    "    gasdata[1].append(d1)\n",
    "    gasdata[2].append(d2)\n",
    "    d0, d1, d2 = ErrorBarMedian(starWithZ[Redshift[i]])\n",
    "    stardata[0].append(d0)\n",
    "    stardata[1].append(d1)\n",
    "    stardata[2].append(d2)\n",
    "gasdata = np.array(gasdata)\n",
    "stardata = np.array(stardata)"
   ]
  },
  {
   "cell_type": "code",
   "execution_count": 33,
   "metadata": {},
   "outputs": [
    {
     "data": {
      "image/png": "[encoded data removed]",
      "text/plain": [
       "<Figure size 432x288 with 1 Axes>"
      ]
     },
     "metadata": {
      "needs_background": "light"
     },
     "output_type": "display_data"
    }
   ],
   "source": [
    "fig = plt.figure()\n",
    "ax = fig.add_subplot(111)\n",
    "ax.set_xlabel('Z')\n",
    "ax.set_ylabel('M sun')\n",
    "ax.set_title(' ')\n",
    "\n",
    "gasErr = np.vstack((gasdata[1,:] - gasdata[0,:], gasdata[2,:] - gasdata[1,:]))\n",
    "starErr = np.vstack((stardata[1,:] - stardata[0,:], stardata[2,:] - stardata[1,:]))\n",
    "#lines\n",
    "ax.errorbar(Redshift[:-1], gasdata[1,:], yerr=gasErr, elinewidth=2, capthick=2, capsize=3, color='r', fmt='o', label=r'$\\Delta$gas')\n",
    "ax.errorbar(Redshift[:-1], stardata[1,:], yerr=starErr, elinewidth=2, capthick=2, capsize=3, color='c', fmt='o', label=r'$\\Delta$stellar')\n",
    "ax.legend()\n",
    "plt.savefig('f:/Linux/local_result/il1_deltaGas.png',dpi=300)"
   ]
  },
  {
   "cell_type": "code",
   "execution_count": 53,
   "metadata": {},
   "outputs": [
    {
     "data": {
      "image/png": "[encoded data removed]",
      "text/plain": [
       "<Figure size 432x288 with 1 Axes>"
      ]
     },
     "metadata": {
      "needs_background": "light"
     },
     "output_type": "display_data"
    }
   ],
   "source": [
    "gasWithZ = {}\n",
    "starWithZ = {}\n",
    "for x in Redshift:\n",
    "    gasWithZ[x] = []\n",
    "    starWithZ[x] = []\n",
    "    \n",
    "ids = il1_diskID\n",
    "for subID in ids:\n",
    "    gas = []\n",
    "    star = []\n",
    "    prog = LoadMergHist('il1', subID)[0]\n",
    "    plot = 1\n",
    "    for snap in il1_snapshot:\n",
    "        try:\n",
    "            haloID = prog[snap]\n",
    "        except:\n",
    "            plot = 0\n",
    "            break\n",
    "        gas.append(il1_gas[snap][haloID])\n",
    "        star.append(il1_star[snap][haloID])\n",
    "    if plot:\n",
    "        delta_gas = [gas[i] - gas[i+1] for i in range(len(gas)-1)] \n",
    "        delta_star = [star[i] - star[i + 1] for i in range(len(star) - 1)]\n",
    "        for i in range(len(delta_gas)):\n",
    "            gasWithZ[Redshift[i]].append(delta_gas[i])\n",
    "            starWithZ[Redshift[i]].append(delta_star[i])\n",
    "            \n",
    "gasdata = [[], [], []]\n",
    "stardata = [[], [], []]\n",
    "for i in range(len(delta_gas)):\n",
    "    d0, d1, d2 = ErrorBarMedian(gasWithZ[Redshift[i]])\n",
    "    gasdata[0].append(d0)\n",
    "    gasdata[1].append(d1)\n",
    "    gasdata[2].append(d2)\n",
    "    d0, d1, d2 = ErrorBarMedian(starWithZ[Redshift[i]])\n",
    "    stardata[0].append(d0)\n",
    "    stardata[1].append(d1)\n",
    "    stardata[2].append(d2)\n",
    "gasdata = np.array(gasdata)\n",
    "stardata = np.array(stardata)\n",
    "\n",
    "#plot info\n",
    "fig = plt.figure()\n",
    "ax = fig.add_subplot(111)\n",
    "ax.set_xlabel('Z')\n",
    "ax.set_ylabel('M sun')\n",
    "# ax.set_xlim(-0.4, 0.4)\n",
    "ax.set_ylim(-0.4, 0.4)\n",
    "ax.set_title(' ')\n",
    "\n",
    "gasErr = np.vstack((gasdata[1,:] - gasdata[0,:], gasdata[2,:] - gasdata[1,:]))\n",
    "starErr = np.vstack((stardata[1,:] - stardata[0,:], stardata[2,:] - stardata[1,:]))\n",
    "#lines\n",
    "ax.errorbar(Redshift[:-1], gasdata[1,:], yerr=gasErr, elinewidth=2, capthick=2, capsize=3, color='r', fmt='o', label=r'$\\Delta$gas')\n",
    "ax.errorbar(Redshift[:-1], stardata[1,:], yerr=starErr, elinewidth=2, capthick=2, capsize=3, color='c', fmt='o', label=r'$\\Delta$stellar')\n",
    "ax.legend()\n",
    "\n",
    "plt.savefig('f:/Linux/local_result/new_il1_deltaGas.png',dpi=300)"
   ]
  },
  {
   "cell_type": "code",
   "execution_count": 51,
   "metadata": {},
   "outputs": [
    {
     "data": {
      "image/png": "[encoded data removed]",
      "text/plain": [
       "<Figure size 432x288 with 1 Axes>"
      ]
     },
     "metadata": {
      "needs_background": "light"
     },
     "output_type": "display_data"
    }
   ],
   "source": [
    "gasWithZ = {}\n",
    "starWithZ = {}\n",
    "for x in Redshift:\n",
    "    gasWithZ[x] = []\n",
    "    starWithZ[x] = []\n",
    "\n",
    "ids = tng_diskID\n",
    "for subID in ids:\n",
    "    gas = []\n",
    "    star = []\n",
    "    prog = LoadMergHist('TNG', subID)[0]\n",
    "    plot = 1\n",
    "    for snap in tng_snapshot:\n",
    "        try:\n",
    "            haloID = prog[snap]\n",
    "        except:\n",
    "            plot = 0\n",
    "            break\n",
    "        gas.append(tng_gas[snap][haloID])\n",
    "        star.append(tng_star[snap][haloID])\n",
    "    if plot:\n",
    "        delta_gas = [gas[i] - gas[i+1] for i in range(len(gas)-1)] \n",
    "        delta_star = [star[i] - star[i + 1] for i in range(len(star) - 1)]\n",
    "        for i in range(len(delta_gas)):\n",
    "            gasWithZ[Redshift[i]].append(delta_gas[i])\n",
    "            starWithZ[Redshift[i]].append(delta_star[i])\n",
    "            \n",
    "gasdata = [[], [], []]\n",
    "stardata = [[], [], []]\n",
    "for i in range(len(delta_gas)):\n",
    "    d0, d1, d2 = ErrorBarMedian(gasWithZ[Redshift[i]])\n",
    "    gasdata[0].append(d0)\n",
    "    gasdata[1].append(d1)\n",
    "    gasdata[2].append(d2)\n",
    "    d0, d1, d2 = ErrorBarMedian(starWithZ[Redshift[i]])\n",
    "    stardata[0].append(d0)\n",
    "    stardata[1].append(d1)\n",
    "    stardata[2].append(d2)\n",
    "gasdata = np.array(gasdata)\n",
    "stardata = np.array(stardata)\n",
    "\n",
    "#plot info\n",
    "fig = plt.figure()\n",
    "ax = fig.add_subplot(111)\n",
    "ax.set_xlabel('Z')\n",
    "ax.set_ylabel('M sun')\n",
    "ax.set_title(' ')\n",
    "\n",
    "gasErr = np.vstack((gasdata[1,:] - gasdata[0,:], gasdata[2,:] - gasdata[1,:]))\n",
    "starErr = np.vstack((stardata[1,:] - stardata[0,:], stardata[2,:] - stardata[1,:]))\n",
    "#lines\n",
    "ax.errorbar(Redshift[:-1], gasdata[1,:], yerr=gasErr, elinewidth=2, capthick=2, capsize=3, color='r', fmt='o', label=r'$\\Delta$gas')\n",
    "ax.errorbar(Redshift[:-1], stardata[1,:], yerr=starErr, elinewidth=2, capthick=2, capsize=3, color='c', fmt='o', label=r'$\\Delta$stellar')\n",
    "\n",
    "ax.legend()\n",
    "plt.savefig('f:/Linux/local_result/TNG_deltaGas.png',dpi=300)"
   ]
  },
  {
   "cell_type": "code",
   "execution_count": 47,
   "metadata": {
    "scrolled": true
   },
   "outputs": [
    {
     "name": "stdout",
     "output_type": "stream",
     "text": [
      "[[-0.15748377 -0.16047257 -0.15006365 -0.16318355 -0.07367992 -0.17264277\n",
      "  -0.12202891 -0.06983858 -0.03499308]\n",
      " [-0.03681139 -0.02719693 -0.03211614 -0.02157494 -0.00053051 -0.01622789\n",
      "   0.00599943  0.06659841  0.10675249]\n",
      " [ 0.03293423  0.0400813   0.05000695  0.06708404  0.09142216  0.09747916\n",
      "   0.11635668  0.21021588  0.25093201]]\n"
     ]
    },
    {
     "data": {
      "image/png": "[encoded data removed]",
      "text/plain": [
       "<Figure size 432x288 with 1 Axes>"
      ]
     },
     "metadata": {
      "needs_background": "light"
     },
     "output_type": "display_data"
    }
   ],
   "source": [
    "gasWithZ = {}\n",
    "starWithZ = {}\n",
    "for x in Redshift:\n",
    "    gasWithZ[x] = []\n",
    "    starWithZ[x] = []\n",
    "    \n",
    "ids = il1_diskID\n",
    "for subID in ids:\n",
    "    gas = []\n",
    "    star = []\n",
    "    prog = LoadMergHist('il1', subID)[0]\n",
    "    plot = 1\n",
    "    for snap in il1_snapshot:\n",
    "        try:\n",
    "            haloID = prog[snap]\n",
    "        except:\n",
    "            plot = 0\n",
    "            break\n",
    "        gas.append(il1_gas[snap][haloID])\n",
    "        star.append(il1_star[snap][haloID])\n",
    "    if plot:\n",
    "        delta_gas = [gas[i] - gas[i+1] for i in range(len(gas)-1)] \n",
    "        delta_star = [star[i] - star[i + 1] for i in range(len(star) - 1)]\n",
    "        for i in range(len(delta_gas)):\n",
    "            gasWithZ[Redshift[i]].append(delta_gas[i])\n",
    "            starWithZ[Redshift[i]].append(delta_star[i])\n",
    "            \n",
    "gasdata = [[], [], []]\n",
    "stardata = [[], [], []]\n",
    "for i in range(len(delta_gas)):\n",
    "    d0, d1, d2 = ErrorBarMedian(gasWithZ[Redshift[i]])\n",
    "    gasdata[0].append(d0)\n",
    "    gasdata[1].append(d1)\n",
    "    gasdata[2].append(d2)\n",
    "    d0, d1, d2 = ErrorBarMedian(starWithZ[Redshift[i]])\n",
    "    stardata[0].append(d0)\n",
    "    stardata[1].append(d1)\n",
    "    stardata[2].append(d2)\n",
    "gasdata = np.array(gasdata)\n",
    "stardata = np.array(stardata)\n",
    "\n",
    "#plot info\n",
    "fig = plt.figure()\n",
    "ax = fig.add_subplot(111)\n",
    "ax.set_xlabel('Z')\n",
    "ax.set_ylabel('M sun')\n",
    "# ax.set_xlim(-0.4, 0.4)\n",
    "ax.set_ylim(-0.4, 0.4)\n",
    "ax.set_title(' ')\n",
    "\n",
    "gasErr = np.vstack((gasdata[1,:] - gasdata[0,:], gasdata[2,:] - gasdata[1,:]))\n",
    "starErr = np.vstack((stardata[1,:] - stardata[0,:], stardata[2,:] - stardata[1,:]))\n",
    "#lines\n",
    "ax.errorbar(Redshift[:-1], gasdata[1,:], yerr=gasErr, elinewidth=2, capthick=2, capsize=3, color='r', fmt='o', label=r'$\\Delta$gas')\n",
    "ax.errorbar(Redshift[:-1], stardata[1,:], yerr=starErr, elinewidth=2, capthick=2, capsize=3, color='c', fmt='o', label=r'$\\Delta$stellar')\n",
    "ax.legend()\n",
    "print(gasdata)\n",
    "# plt.savefig('f:/Linux/local_result/il1_deltaGas.png',dpi=300)"
   ]
  },
  {
   "cell_type": "code",
   "execution_count": 43,
   "metadata": {},
   "outputs": [],
   "source": [
    "bar2bar = np.load('F:/npy/bar2bar.npy',allow_pickle=1).item()\n",
    "bar2disk = np.load('f:/npy/bar2no.npy',allow_pickle=1).item()"
   ]
  },
  {
   "cell_type": "code",
   "execution_count": 44,
   "metadata": {},
   "outputs": [
    {
     "data": {
      "text/plain": [
       "243"
      ]
     },
     "execution_count": 44,
     "metadata": {},
     "output_type": "execute_result"
    }
   ],
   "source": [
    "len(bar2disk.keys())"
   ]
  },
  {
   "cell_type": "code",
   "execution_count": 55,
   "metadata": {
    "scrolled": true
   },
   "outputs": [
    {
     "data": {
      "image/png": "[encoded data removed]",
      "text/plain": [
       "<Figure size 432x288 with 1 Axes>"
      ]
     },
     "metadata": {
      "needs_background": "light"
     },
     "output_type": "display_data"
    }
   ],
   "source": [
    "gasWithZ = {}\n",
    "starWithZ = {}\n",
    "for x in Redshift:\n",
    "    gasWithZ[x] = []\n",
    "    starWithZ[x] = []\n",
    "    \n",
    "for subID in bar2disk.keys():\n",
    "    gas = []\n",
    "    star = []\n",
    "    prog = LoadMergHist('TNG', subID)[0]\n",
    "    plot = 1\n",
    "    for snap in tng_snapshot:\n",
    "        try:\n",
    "            haloID = prog[snap]\n",
    "        except:\n",
    "            plot = 0\n",
    "            break\n",
    "        gas.append(tng_gas[snap][haloID])\n",
    "        star.append(tng_star[snap][haloID])\n",
    "    if plot:\n",
    "        delta_gas = [gas[i] - gas[i+1] for i in range(len(gas)-1)] \n",
    "        delta_star = [star[i] - star[i + 1] for i in range(len(star) - 1)]\n",
    "        for i in range(len(delta_gas)):\n",
    "            gasWithZ[Redshift[i]].append(delta_gas[i])\n",
    "            starWithZ[Redshift[i]].append(delta_star[i])\n",
    "            \n",
    "gasdata = [[], [], []]\n",
    "stardata = [[], [], []]\n",
    "for i in range(len(delta_gas)):\n",
    "    d0, d1, d2 = ErrorBarMedian(gasWithZ[Redshift[i]])\n",
    "    gasdata[0].append(d0)\n",
    "    gasdata[1].append(d1)\n",
    "    gasdata[2].append(d2)\n",
    "    d0, d1, d2 = ErrorBarMedian(starWithZ[Redshift[i]])\n",
    "    stardata[0].append(d0)\n",
    "    stardata[1].append(d1)\n",
    "    stardata[2].append(d2)\n",
    "gasdata = np.array(gasdata)\n",
    "stardata = np.array(stardata)\n",
    "\n",
    "#plot info\n",
    "fig = plt.figure()\n",
    "ax = fig.add_subplot(111)\n",
    "ax.set_xlabel('Z')\n",
    "ax.set_ylabel('M sun')\n",
    "# ax.set_xlim(-0.4, 0.4)\n",
    "ax.set_ylim(-0.4, 0.4)\n",
    "ax.set_title(' ')\n",
    "\n",
    "gasErr = np.vstack((gasdata[1,:] - gasdata[0,:], gasdata[2,:] - gasdata[1,:]))\n",
    "starErr = np.vstack((stardata[1,:] - stardata[0,:], stardata[2,:] - stardata[1,:]))\n",
    "#lines\n",
    "ax.errorbar(Redshift[:-1], gasdata[1,:], yerr=gasErr, elinewidth=2, capthick=2, capsize=3, color='r', fmt='o', label=r'$\\Delta$gas')\n",
    "ax.errorbar(Redshift[:-1], stardata[1,:], yerr=starErr, elinewidth=2, capthick=2, capsize=3, color='c', fmt='o', label=r'$\\Delta$stellar')\n",
    "ax.legend()\n",
    "plt.savefig('f:/Linux/local_result/tng_matched_barrred_deltaGas.png',dpi=300)"
   ]
  },
  {
   "cell_type": "code",
   "execution_count": 57,
   "metadata": {},
   "outputs": [],
   "source": [
    "il1_halolen = il.func.loadSubhalos('il1', 103, 'SubhaloLenType')[:, 4]\n",
    "ind = np.array(range(len(il1_halolen)))\n",
    "il1_stellarGt4WP  = ind[il1_halolen >= 40000]"
   ]
  },
  {
   "cell_type": "code",
   "execution_count": 60,
   "metadata": {},
   "outputs": [
    {
     "data": {
      "text/plain": [
       "array([     0,      1,      2, ..., 364494, 366757, 372000])"
      ]
     },
     "execution_count": 60,
     "metadata": {},
     "output_type": "execute_result"
    }
   ],
   "source": [
    "il1_stellarGt4WP"
   ]
  },
  {
   "cell_type": "code",
   "execution_count": null,
   "metadata": {},
   "outputs": [],
   "source": []
  }
 ],
 "metadata": {
  "kernelspec": {
   "display_name": "Python 3",
   "language": "python",
   "name": "python3"
  },
  "language_info": {
   "codemirror_mode": {
    "name": "ipython",
    "version": 3
   },
   "file_extension": ".py",
   "mimetype": "text/x-python",
   "name": "python",
   "nbconvert_exporter": "python",
   "pygments_lexer": "ipython3",
   "version": "3.7.1"
  }
 },
 "nbformat": 4,
 "nbformat_minor": 2
}
