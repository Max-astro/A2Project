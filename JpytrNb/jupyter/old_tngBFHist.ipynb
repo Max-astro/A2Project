{
 "cells": [
  {
   "cell_type": "code",
   "execution_count": 8,
   "metadata": {},
   "outputs": [
    {
     "data": {
      "text/plain": [
       "<matplotlib.legend.Legend at 0x25cad8b8748>"
      ]
     },
     "execution_count": 8,
     "metadata": {},
     "output_type": "execute_result"
    },
    {
     "data": {
      "image/png": "[encoded data removed]",
      "text/plain": [
       "<Figure size 432x288 with 2 Axes>"
      ]
     },
     "metadata": {
      "needs_background": "light"
     },
     "output_type": "display_data"
    }
   ],
   "source": [
    "import numpy as np\n",
    "import h5py\n",
    "import matplotlib.pyplot as plt\n",
    "import os\n",
    "import sys\n",
    "sys.path.append('F:\\Linux')\n",
    "import illustris_python as il\n",
    "\n",
    "#TNG data\n",
    "barID = np.load('f:/Linux/localRUN/barredID_TNG.npy')\n",
    "diskID = np.load('f:/Linux/localRUN/diskID_TNG.npy')\n",
    "StellarMass = il.func.loadSubhalos('TNG', 99, 'SubhaloMassType')[:,4] / 0.704\n",
    "diskmass = np.log10(StellarMass[diskID]*10**10)\n",
    "barmass = np.log10(StellarMass[barID]*10**10)\n",
    "\n",
    "\n",
    "#Illustris-1 data\n",
    "il1_barID = np.load('f:/Linux/localRUN/barredID_il1.npy')\n",
    "il1_diskID = np.load('f:/Linux/localRUN/diskID_il1.npy')\n",
    "il1_StellarMass = il.func.loadSubhalos('il1', 135, 'SubhaloMassType')[:,4] / 0.6774\n",
    "il1_diskmass = np.log10(il1_StellarMass[il1_diskID]*10**10)\n",
    "il1_barmass = np.log10(il1_StellarMass[il1_barID]*10**10)\n",
    "\n",
    "\n",
    "fig = plt.figure()\n",
    "ax1 = fig.add_subplot(111)\n",
    "ax1.set_xlabel('Stellar Mass')\n",
    "ax1.set_ylabel('Bar Fraction')\n",
    "ax2 = ax1.twinx()\n",
    "ax2.set_ylabel('Halo number N')\n",
    "\n",
    "#plot histogram\n",
    "n,bins,others = ax2.hist(diskmass, 22, rwidth=0.9, alpha = 0.5)\n",
    "ax2.set_xlim(10.0,12)\n",
    "ax1.set_ylim(0.0, 0.8)\n",
    "ax2.set_ylim(0, 500)\n",
    "Fraction = []\n",
    "il1_Fraction = []\n",
    "x_point = []\n",
    "\n",
    "for i in range(len(bins)-1):\n",
    "    low = bins[i]\n",
    "    high = bins[i+1]\n",
    "\n",
    "\n",
    "    disknum = len(diskmass[(diskmass >= low) & (diskmass < high)])\n",
    "    barred = len(barmass[(barmass >= low) & (barmass < high)])\n",
    "\n",
    "    il1_disknum = len(il1_diskmass[(il1_diskmass >= low) & (il1_diskmass < high)])\n",
    "    il1_barred = len(il1_barmass[(il1_barmass >= low) & (il1_barmass < high)])\n",
    "\n",
    "    if disknum == 0:\n",
    "        Fraction.append(0)\n",
    "    else:\n",
    "        Fraction.append(barred / disknum)\n",
    "\n",
    "    if il1_disknum == 0:\n",
    "        il1_Fraction.append(0)\n",
    "    else:\n",
    "        il1_Fraction.append(il1_barred / il1_disknum)\n",
    "\n",
    "\n",
    "        \n",
    "ax1.plot(bins[:-1] + (bins[1] - bins[0]) / 2, Fraction, 'o', c = 'r', label = 'TNG data')\n",
    "ax1.plot(bins[:-1] + (bins[1] - bins[0]) / 2, il1_Fraction, 'o', c = 'g', label = 'Illustris-1 data')\n",
    "ax1.legend(loc=1)"
   ]
  },
  {
   "cell_type": "code",
   "execution_count": 3,
   "metadata": {},
   "outputs": [
    {
     "data": {
      "text/plain": [
       "0.08351930560861831"
      ]
     },
     "execution_count": 3,
     "metadata": {},
     "output_type": "execute_result"
    }
   ],
   "source": [
    "bins[1]-bins[0]"
   ]
  },
  {
   "cell_type": "code",
   "execution_count": null,
   "metadata": {},
   "outputs": [],
   "source": []
  }
 ],
 "metadata": {
  "kernelspec": {
   "display_name": "Python 3",
   "language": "python",
   "name": "python3"
  },
  "language_info": {
   "codemirror_mode": {
    "name": "ipython",
    "version": 3
   },
   "file_extension": ".py",
   "mimetype": "text/x-python",
   "name": "python",
   "nbconvert_exporter": "python",
   "pygments_lexer": "ipython3",
   "version": "3.7.1"
  }
 },
 "nbformat": 4,
 "nbformat_minor": 2
}
