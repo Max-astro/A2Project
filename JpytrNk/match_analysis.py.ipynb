{
 "cells": [
  {
   "cell_type": "code",
   "execution_count": 2,
   "metadata": {},
   "outputs": [],
   "source": [
    "import numpy as np\n",
    "import h5py\n",
    "import matplotlib.pyplot as plt\n",
    "import os\n",
    "import sys\n",
    "sys.path.append('F:\\Linux')\n",
    "import illustris_python as il\n",
    "import matplotlib.pyplot as plt"
   ]
  },
  {
   "cell_type": "code",
   "execution_count": 3,
   "metadata": {},
   "outputs": [
    {
     "name": "stderr",
     "output_type": "stream",
     "text": [
      "d:\\Anaconda3\\lib\\site-packages\\ipykernel_launcher.py:32: RuntimeWarning: invalid value encountered in true_divide\n",
      "d:\\Anaconda3\\lib\\site-packages\\ipykernel_launcher.py:33: RuntimeWarning: invalid value encountered in true_divide\n"
     ]
    }
   ],
   "source": [
    "tng2il1 = np.load('F:/Linux/localRUN/Match/tng2il1_allsub.npy',allow_pickle=1).item()\n",
    "\n",
    "#Subhalo Mophology Information\n",
    "tngdisk = np.load('f:/Linux/localRUN/diskID_4WP.npy')\n",
    "il1disk = np.load('f:/Linux/localRUN/diskID_il1.npy')\n",
    "\n",
    "tng_barred = np.load('f:/Linux/localRUN/barredID_4WP_TNG.npy')\n",
    "il1_barred = np.load('f:/Linux/localRUN/barredID_il1.npy')\n",
    "\n",
    "Groups_tng = il.func.loadSubhalos('TNG', 99, \"SubhaloGrNr\")\n",
    "Groups_il1 = il.func.loadSubhalos('il1', 135, \"SubhaloGrNr\")\n",
    "\n",
    "tng_diskGIDs = Groups_tng[tngdisk]\n",
    "il1_diskGIDs = Groups_il1[il1disk]\n",
    "\n",
    "tng_barredGID = Groups_tng[tng_barred]\n",
    "il1_barredGID = Groups_il1[il1_barred]\n",
    "\n",
    "#SFR\n",
    "tng_SFR = il.func.loadSubhalos('TNG', 99, \"SubhaloSFRinHalfRad\")\n",
    "il1_SFR = il.func.loadSubhalos('il1', 135, \"SubhaloSFRinHalfRad\")\n",
    "\n",
    "#Total mass\n",
    "tng_mas = mas = il.func.loadSubhalos('TNG', 99, 'SubhaloMassInRadType')\n",
    "il1_mas = il.func.loadSubhalos('il1', 135, 'SubhaloMassInRadType')\n",
    "\n",
    "\n",
    "#Stellar mass\n",
    "tng_StellarMass = np.log10(tng_mas[:,4] / 0.704 * 10**10) \n",
    "il1_StellarMass = np.log10(il1_mas[:,4] / 0.6774 * 10**10) \n",
    "tng_StellarMass[np.isnan(tng_StellarMass)] = 0\n",
    "il1_StellarMass[np.isnan(il1_StellarMass)] = 0\n",
    "\n",
    "#sSFR\n",
    "\n",
    "#Gas Fraction\n",
    "tng_GasFraction = tng_mas[:, 0] / (tng_mas[:, 4] + tng_mas[:, 0])\n",
    "il1_GasFraction = il1_mas[:, 0] / (il1_mas[:, 4] + il1_mas[:, 0])\n",
    "tng_GasFraction[np.isnan(tng_GasFraction)] = 0\n",
    "il1_GasFraction[np.isnan(il1_GasFraction)] = 0"
   ]
  },
  {
   "cell_type": "code",
   "execution_count": 4,
   "metadata": {},
   "outputs": [],
   "source": [
    "def HistValAndBin(nums, bins, more=0, mask=0):\n",
    "    if mask == 1:\n",
    "        reMask = []\n",
    "\n",
    "    val = []\n",
    "    tmp = nums[nums < bins[1]]\n",
    "    if mask == 1:\n",
    "        reMask.append(nums < bins[1])\n",
    "    val.append(len(tmp))\n",
    "\n",
    "    for i in range(1,len(bins)-1):\n",
    "        tmp = nums[(nums > bins[i]) & (nums <= bins[i+1])]\n",
    "        val.append(len(tmp))\n",
    "        if mask == 1:\n",
    "            reMask.append((nums > bins[i]) & (nums <= bins[i+1]))\n",
    "\n",
    "    if more == 1:\n",
    "        tmp = nums[nums > bins[-1]]\n",
    "        val.append(len(tmp))\n",
    "        if mask == 1:\n",
    "            reMask.append(nums > bins[-1])\n",
    "\n",
    "    if mask == 0:\n",
    "        return np.array(val)\n",
    "    else:\n",
    "        return np.array(val), np.array(reMask)\n",
    "\n",
    "def LoadMergHist(simu, subhaloID):\n",
    "    '''\n",
    "    return subhalo's main progenitor and merger history with snapshot\n",
    "    '''\n",
    "    if simu == 'TNG':\n",
    "        ldir = 'f:/Linux/localRUN/tng_DiskMerTree/%d.json' % subhaloID\n",
    "    else:\n",
    "        ldir = 'f:/Linux/localRUN/il1_DiskMerTree/%d.json' % subhaloID\n",
    "    \n",
    "    with open(ldir) as f:\n",
    "        data = json.load(f)\n",
    "    \n",
    "    Main = np.array(data['Main'])\n",
    "    return dict(zip(Main[:, 0], Main[:, 1])), np.array(data['Mergers'])\n",
    "\n",
    "def ErrorBarMedian(data):\n",
    "    #return 25%, 50%, 75%\n",
    "    if len(data) == 0:\n",
    "        return 0, 0, 0\n",
    "    elif len(data) < 3:\n",
    "        return 0, np.median(data), 0\n",
    "    else:\n",
    "        data.sort()\n",
    "        return data[int(len(data) / 4)], np.median(data), data[int(len(data) * 0.75)]\n"
   ]
  },
  {
   "cell_type": "code",
   "execution_count": 5,
   "metadata": {},
   "outputs": [],
   "source": [
    "bar2bar = {}\n",
    "for i in tng2il1.keys():\n",
    "    if (i in tng_barred) and (tng2il1[i] in il1_barred):\n",
    "        bar2bar[i] = tng2il1[i]\n",
    "\n",
    "bar2nobar  = {}\n",
    "for i in tng2il1.keys():\n",
    "    if (i in tng_barred) and (tng2il1[i] in il1disk) and (tng2il1[i] not in il1_barred):\n",
    "        bar2nobar[i] = tng2il1[i]"
   ]
  },
  {
   "cell_type": "code",
   "execution_count": null,
   "metadata": {},
   "outputs": [],
   "source": [
    "#Plot Gas Histogram"
   ]
  }
 ],
 "metadata": {
  "kernelspec": {
   "display_name": "Python 3",
   "language": "python",
   "name": "python3"
  },
  "language_info": {
   "codemirror_mode": {
    "name": "ipython",
    "version": 3
   },
   "file_extension": ".py",
   "mimetype": "text/x-python",
   "name": "python",
   "nbconvert_exporter": "python",
   "pygments_lexer": "ipython3",
   "version": "3.7.1"
  }
 },
 "nbformat": 4,
 "nbformat_minor": 2
}
