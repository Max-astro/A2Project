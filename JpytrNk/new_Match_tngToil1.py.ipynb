{
 "cells": [
  {
   "cell_type": "code",
   "execution_count": null,
   "metadata": {},
   "outputs": [],
   "source": [
    "import numpy as np\n",
    "import h5py\n",
    "import sys\n",
    "sys.path.append('F:\\Linux')\n",
    "import illustris_python as il\n",
    "\n",
    "#Load data\n",
    "tngdisk = np.load('f:/Linux/localRUN/diskID_4WP.npy')\n",
    "il1disk = np.load('f:/Linux/localRUN/diskID_il1.npy')\n",
    "\n",
    "tng_barred = np.load('f:/Linux/localRUN/barredID_4WP_TNG.npy')\n",
    "il1_barred = np.load('f:/Linux/localRUN/barredID_il1.npy')\n",
    "\n",
    "Groups_tng = il.func.loadSubhalos('TNG', 99, \"SubhaloGrNr\")\n",
    "Groups_il1 = il.func.loadSubhalos('il1', 135, \"SubhaloGrNr\")\n",
    "\n",
    "#Is centre galaxy\n",
    "tng_GFSub = il.func.loadhalos('TNG', 99, 'GroupFirstSub')\n",
    "il1_GFSub = il.func.loadhalos('il1', 135, 'GroupFirstSub')\n",
    "\n",
    "#Load match result\n",
    "tng_to_il1 = np.load('f:/Linux/localRUN/Match/tng_il1_SubToSub.npy').item()\n"
   ]
  }
 ],
 "metadata": {
  "kernelspec": {
   "display_name": "Python 3",
   "language": "python",
   "name": "python3"
  },
  "language_info": {
   "codemirror_mode": {
    "name": "ipython",
    "version": 3
   },
   "file_extension": ".py",
   "mimetype": "text/x-python",
   "name": "python",
   "nbconvert_exporter": "python",
   "pygments_lexer": "ipython3",
   "version": "3.7.1"
  }
 },
 "nbformat": 4,
 "nbformat_minor": 2
}
