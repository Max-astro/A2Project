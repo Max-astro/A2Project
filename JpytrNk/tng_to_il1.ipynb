{
 "cells": [
  {
   "cell_type": "code",
   "execution_count": 2,
   "metadata": {},
   "outputs": [],
   "source": [
    "import numpy as np\n",
    "import h5py\n",
    "import sys\n",
    "sys.path.append('F:\\Linux')\n",
    "import illustris_python as il\n",
    "from sklearn.neighbors import KDTree\n",
    "import matplotlib.pyplot as plt\n",
    "\n",
    "def find_id(all_id):\n",
    "    il1_id = np.zeros(len(all_id), dtype=int)\n",
    "    for i in range(len(all_id)):\n",
    "        il1_id[i] = -1\n",
    "        for j in range(5):\n",
    "            if all_id[i][j] != -1:\n",
    "                il1_id[i] = all_id[i][j]\n",
    "    return il1_id\n",
    "\n",
    "def SubhaloMatch(tng_subID):\n",
    "    '''\n",
    "    return matched SubhaloID in il1.\n",
    "    No match return -1\n",
    "    '''\n",
    "    tng_GID = Groups_tng[tng_subID]\n",
    "    il1_GID = tng_to_il1[tng_GID]\n",
    "    if il1_GID == -1:\n",
    "        return il1_GID\n",
    "    try:\n",
    "        if len(il1_HaloToSubdisk[il1_GID]) == 1:\n",
    "            return (il1_HaloToSubdisk[il1_GID])[0]\n",
    "        il1_subIDs = il1_HaloToSubdisk[il1_GID]\n",
    "    except KeyError:\n",
    "        il1_subIDs = il1_GroupSubhalo[il1_GID]\n",
    "\n",
    "    return SubPositionMatch(tng_subID, il1_subIDs)\n",
    "    \n",
    "def SubPositionMatch(tng_subID, il1_subIDs):\n",
    "    '''\n",
    "    If one dark matter halo has several center galaxies, match them by subhalo position.\n",
    "    return a list of their distance\n",
    "    '''\n",
    "    mass = abs(tng_DMMass[tng_subID] - il1_DMMass[il1_subIDs])\n",
    "    ind = np.where(mass == mass.min())[0][0]\n",
    "    return il1_subIDs[ind]\n",
    "\n",
    "def MatchedCentralGalaxy(tng_subID):\n",
    "    '''\n",
    "    return matched central galaxy in il1\n",
    "    No match return -1\n",
    "    '''\n",
    "    tng_GID = Groups_tng[tng_subID]\n",
    "    il1_GID = tng_to_il1[tng_GID]\n",
    "    if il1_GID == -1:\n",
    "        return il1_GID\n",
    "    if isCentral(tng_subID):\n",
    "        return il1_GFSub[il1_GID]\n",
    "    else:\n",
    "        return -1\n",
    "    \n",
    "def HistValAndBin(nums, bins):\n",
    "    val = []\n",
    "    tmp = nums[nums < bins[1]]\n",
    "    val.append(len(tmp))\n",
    "\n",
    "    for i in range(1,len(bins)-1):\n",
    "        tmp = nums[(nums > bins[i]) & (nums <= bins[i+1])]\n",
    "        val.append(len(tmp))\n",
    "    return val"
   ]
  },
  {
   "cell_type": "code",
   "execution_count": 5,
   "metadata": {},
   "outputs": [
    {
     "name": "stderr",
     "output_type": "stream",
     "text": [
      "d:\\Anaconda3\\lib\\site-packages\\ipykernel_launcher.py:57: RuntimeWarning: invalid value encountered in true_divide\n",
      "d:\\Anaconda3\\lib\\site-packages\\ipykernel_launcher.py:58: RuntimeWarning: invalid value encountered in true_divide\n"
     ]
    }
   ],
   "source": [
    "#match disk halo between TNG & illustris-1\n",
    "tngdisk = np.load('f:/Linux/localRUN/diskID_4WP.npy')\n",
    "il1disk = np.load('f:/Linux/localRUN/diskID_il1.npy')\n",
    "\n",
    "tng_barred = np.load('f:/Linux/localRUN/barredID_4WP_TNG.npy')\n",
    "il1_barred = np.load('f:/Linux/localRUN/barredID_il1.npy')\n",
    "\n",
    "Groups_tng = il.func.loadSubhalos('TNG', 99, \"SubhaloGrNr\")\n",
    "Groups_il1 = il.func.loadSubhalos('il1', 135, \"SubhaloGrNr\")\n",
    "\n",
    "tng_diskGIDs = Groups_tng[tngdisk]\n",
    "il1_diskGIDs = Groups_il1[il1disk]\n",
    "\n",
    "tng_barredGID = Groups_tng[tng_barred]\n",
    "il1_barredGID = Groups_il1[il1_barred]\n",
    "\n",
    "#load TNG groups informations\n",
    "cm_TNG = il.func.loadhalos('TNG', 99, 'GroupPos')\n",
    "tng_subCM = il.func.loadSubhalos('TNG', 99, 'SubhaloCM')\n",
    "mass_TNG = il.func.loadhalos('TNG', 99, 'GroupMassType')[:, 1]\n",
    "\n",
    "#build illustris halo as a tree\n",
    "cm_il1 = il.func.loadhalos('il1', 135, 'GroupPos')\n",
    "il1_subCM = il.func.loadSubhalos('il1', 135, 'SubhaloCM')\n",
    "mass_il1 = il.func.loadhalos('il1', 135, 'GroupMassType')[:, 1]\n",
    "\n",
    "#Is centre galaxy\n",
    "tng_GFSub = il.func.loadhalos('TNG', 99, 'GroupFirstSub')\n",
    "il1_GFSub = il.func.loadhalos('il1', 135, 'GroupFirstSub')\n",
    "def isCentral(haloID, simu='tng'):\n",
    "    if simu == 'tng':\n",
    "        GID = Groups_tng[haloID]\n",
    "        GFSub = tng_GFSub[GID]\n",
    "    else:\n",
    "        GID = Groups_il1[haloID]\n",
    "        GFSub = il1_GFSub[GID]\n",
    "        \n",
    "    if GFSub == haloID:\n",
    "        return True\n",
    "    else:\n",
    "        return False\n",
    "\n",
    "    \n",
    "def findMatchSubhalo(haloID, simu='tng'):\n",
    "    #input subhaloID in TNG, return matched subhaloID in il1\n",
    "    GID = Groups_tng[haloID]\n",
    "    try:\n",
    "        il1_GID = tng_to_il1[GID]\n",
    "    except:\n",
    "        print('halo ', haloID,' no match.')\n",
    "        return -1\n",
    "    return il1_GFSub[il1_GID]\n",
    "    \n",
    "\n",
    "#SFR\n",
    "tng_SFR = il.func.loadSubhalos('TNG', 99, \"SubhaloSFRinHalfRad\")\n",
    "il1_SFR = il.func.loadSubhalos('il1', 135, \"SubhaloSFRinHalfRad\")\n",
    "\n",
    "#DM mass\n",
    "tng_DMMass = il.func.loadSubhalos('TNG', 99, \"SubhaloMassInRadType\")[:,1]\n",
    "il1_DMMass = il.func.loadSubhalos('il1', 135, \"SubhaloMassInRadType\")[:,1]\n",
    "\n",
    "#Stellar mass\n",
    "tng_StellarMass = il.func.loadSubhalos('TNG', 99, \"SubhaloMassInRadType\")[:,4]\n",
    "il1_StellarMass = il.func.loadSubhalos('il1', 135, \"SubhaloMassInRadType\")[:,4]\n",
    "\n",
    "#Gas Fraction\n",
    "tng_GasFraction = il.func.loadSubhalos('TNG', 99, \"SubhaloMassInRadType\")[:,0] / il.func.loadSubhalos('TNG', 99, \"SubhaloMassInHalfRad\")\n",
    "il1_GasFraction = il.func.loadSubhalos('il1', 135, \"SubhaloMassInRadType\")[:,0] / il.func.loadSubhalos('il1', 135, \"SubhaloMassInHalfRad\")\n",
    "tng_GasFraction[np.isnan(tng_GasFraction)] = 0\n",
    "il1_GasFraction[np.isnan(il1_GasFraction)] = 0"
   ]
  },
  {
   "cell_type": "code",
   "execution_count": 3,
   "metadata": {},
   "outputs": [],
   "source": [
    "tree = KDTree(cm_il1, leaf_size = 2)"
   ]
  },
  {
   "cell_type": "code",
   "execution_count": null,
   "metadata": {},
   "outputs": [],
   "source": []
  },
  {
   "cell_type": "code",
   "execution_count": 5,
   "metadata": {},
   "outputs": [
    {
     "ename": "NameError",
     "evalue": "name 'tree' is not defined",
     "output_type": "error",
     "traceback": [
      "\u001b[1;31m---------------------------------------------------------------------------\u001b[0m",
      "\u001b[1;31mNameError\u001b[0m                                 Traceback (most recent call last)",
      "\u001b[1;32m<ipython-input-5-624ae2422ac2>\u001b[0m in \u001b[0;36m<module>\u001b[1;34m\u001b[0m\n\u001b[0;32m      3\u001b[0m \u001b[1;32mfor\u001b[0m \u001b[0mgroupID\u001b[0m \u001b[1;32min\u001b[0m \u001b[0mnp\u001b[0m\u001b[1;33m.\u001b[0m\u001b[0munique\u001b[0m\u001b[1;33m(\u001b[0m\u001b[0mtng_diskGIDs\u001b[0m\u001b[1;33m)\u001b[0m\u001b[1;33m:\u001b[0m\u001b[1;33m\u001b[0m\u001b[1;33m\u001b[0m\u001b[0m\n\u001b[0;32m      4\u001b[0m     \u001b[0msameHalo\u001b[0m\u001b[1;33m[\u001b[0m\u001b[1;36m0\u001b[0m\u001b[1;33m]\u001b[0m\u001b[1;33m.\u001b[0m\u001b[0mappend\u001b[0m\u001b[1;33m(\u001b[0m\u001b[1;33m[\u001b[0m\u001b[0mgroupID\u001b[0m\u001b[1;33m]\u001b[0m\u001b[1;33m)\u001b[0m\u001b[1;33m\u001b[0m\u001b[1;33m\u001b[0m\u001b[0m\n\u001b[1;32m----> 5\u001b[1;33m     \u001b[0mdis\u001b[0m\u001b[1;33m,\u001b[0m \u001b[0mindex\u001b[0m \u001b[1;33m=\u001b[0m \u001b[0mtree\u001b[0m\u001b[1;33m.\u001b[0m\u001b[0mquery\u001b[0m\u001b[1;33m(\u001b[0m\u001b[0mcm_TNG\u001b[0m\u001b[1;33m[\u001b[0m\u001b[0mgroupID\u001b[0m\u001b[1;33m]\u001b[0m\u001b[1;33m.\u001b[0m\u001b[0mreshape\u001b[0m\u001b[1;33m(\u001b[0m\u001b[1;36m1\u001b[0m\u001b[1;33m,\u001b[0m \u001b[1;33m-\u001b[0m\u001b[1;36m1\u001b[0m\u001b[1;33m)\u001b[0m\u001b[1;33m,\u001b[0m \u001b[0mk\u001b[0m\u001b[1;33m=\u001b[0m\u001b[1;36m10\u001b[0m\u001b[1;33m)\u001b[0m\u001b[1;33m\u001b[0m\u001b[1;33m\u001b[0m\u001b[0m\n\u001b[0m\u001b[0;32m      6\u001b[0m \u001b[1;33m\u001b[0m\u001b[0m\n\u001b[0;32m      7\u001b[0m     \u001b[0mil1_id\u001b[0m \u001b[1;33m=\u001b[0m \u001b[1;33m[\u001b[0m\u001b[1;33m]\u001b[0m\u001b[1;33m\u001b[0m\u001b[1;33m\u001b[0m\u001b[0m\n",
      "\u001b[1;31mNameError\u001b[0m: name 'tree' is not defined"
     ]
    }
   ],
   "source": [
    "#tngID, il1ID, dis, absMass\n",
    "sameHalo = [[], [], [], []]\n",
    "for groupID in np.unique(tng_diskGIDs):\n",
    "    sameHalo[0].append([groupID])\n",
    "    dis, index = tree.query(cm_TNG[groupID].reshape(1, -1), k=10)\n",
    "\n",
    "    il1_id = []\n",
    "    distance = []\n",
    "    absMass = []\n",
    "    for i in range(10):\n",
    "        if abs(mass_TNG[groupID] - mass_il1[index[0, i]]) <= mass_TNG[groupID]*0.5:\n",
    "            il1_id.append(index[0, i])\n",
    "            distance.append(dis[0, i])\n",
    "            absMass.append(abs(mass_TNG[groupID] - mass_il1[index[0, i]]))\n",
    "        else:\n",
    "            il1_id.append(-1)\n",
    "            distance.append(dis[0, i])\n",
    "            absMass.append(abs(mass_TNG[groupID] - mass_il1[index[0, i]]))\n",
    "\n",
    "    sameHalo[1].append(il1_id)\n",
    "    sameHalo[2].append(distance)\n",
    "    sameHalo[3].append(absMass)\n",
    "\n",
    "sameHalo = np.array(sameHalo)"
   ]
  },
  {
   "cell_type": "code",
   "execution_count": 6,
   "metadata": {},
   "outputs": [],
   "source": [
    "tng_to_il1 = np.load('f:/Linux/localRUN/tng_to_il1/tng_to_il1.npy',allow_pickle=True).item()\n",
    "tng_bar_hostGID_matched = np.load('f:/Linux/localRUN/tng_to_il1/tng_bar_hostGID_matched.npy',allow_pickle=True)\n",
    "tng_barred_matchedGID = np.load('f:/Linux/localRUN/tng_to_il1/tng_barred_matchedGID.npy',allow_pickle=True)\n",
    "tng_disk_matchedGID = np.load('f:/Linux/localRUN/tng_to_il1/tng_disk_matchedGID.npy',allow_pickle=True)\n",
    "tng_to_il1_matched_barred_centergalaxies = np.load('f:/Linux/localRUN/tng_to_il1/tng_to_il1_matched_barred_centergalaxies.npy',allow_pickle=True).item()\n",
    "tng_barred_il1_nobarGID = np.load('f:/Linux/localRUN/tng_to_il1/tng_barred_il1_nobarGID.npy',allow_pickle=True)\n",
    "\n",
    "\n",
    "#TNG disk subhalo match il1 subhalo\n",
    "tng_matched_il1disk = {}\n",
    "tng_matched_il1notdisk = {}\n",
    "\n",
    "tng_bar_matched_il1bar = {}\n",
    "tng_bar_matched_il1_nobardisk = {}\n",
    "tng_bar_matched_il1_nobar_others = {}\n",
    "\n",
    "for i in tngdisk:\n",
    "    tmp = MatchedCentralGalaxy(i)\n",
    "    if tmp != -1:\n",
    "        if tmp in il1disk:\n",
    "            tng_matched_il1disk[i] = tmp\n",
    "        else:\n",
    "            tng_matched_il1notdisk[i] = tmp\n",
    "\n",
    "for i in tng_barred:\n",
    "    tmp = MatchedCentralGalaxy(i)\n",
    "    if tmp != -1:\n",
    "        if tmp in il1_barred:\n",
    "            tng_bar_matched_il1bar[i] = tmp\n",
    "        elif tmp in il1disk:\n",
    "            tng_bar_matched_il1_nobardisk[i] = tmp\n",
    "        else:\n",
    "            tng_bar_matched_il1_nobar_others[i] = tmp"
   ]
  },
  {
   "cell_type": "code",
   "execution_count": 14,
   "metadata": {},
   "outputs": [
    {
     "name": "stdout",
     "output_type": "stream",
     "text": [
      "10\n"
     ]
    }
   ],
   "source": [
    "tng_nobar_matched_il1bar = {}\n",
    "for i in tngdisk:\n",
    "    if i not in tng_barred:\n",
    "        tmp = MatchedCentralGalaxy(i)\n",
    "        if tmp != -1:\n",
    "            if tmp in il1_barred:\n",
    "                tng_nobar_matched_il1bar[i] = tmp\n",
    "print(len(tng_nobar_matched_il1bar))"
   ]
  },
  {
   "cell_type": "code",
   "execution_count": 15,
   "metadata": {},
   "outputs": [
    {
     "data": {
      "text/plain": [
       "698"
      ]
     },
     "execution_count": 15,
     "metadata": {},
     "output_type": "execute_result"
    }
   ],
   "source": [
    "len(tng_barred)"
   ]
  },
  {
   "cell_type": "code",
   "execution_count": 43,
   "metadata": {},
   "outputs": [
    {
     "data": {
      "text/plain": [
       "(194.0, 194)"
      ]
     },
     "execution_count": 43,
     "metadata": {},
     "output_type": "execute_result"
    },
    {
     "data": {
      "image/png": "[encoded data removed]",
      "text/plain": [
       "<Figure size 432x288 with 1 Axes>"
      ]
     },
     "metadata": {
      "needs_background": "light"
     },
     "output_type": "display_data"
    }
   ],
   "source": [
    "#TNG barred galaxies matched Illustris-1 unbarred disk galaxies\n",
    "#Gas Fraction\n",
    "tng_M_barID = []\n",
    "il1_M_nobar_diskID = []\n",
    "for i in tng_bar_matched_il1_nobardisk.keys():\n",
    "    tng_M_barID.append(i)\n",
    "    il1_M_nobar_diskID.append(tng_bar_matched_il1_nobardisk[i])\n",
    "    \n",
    "tng_barGasF = tng_GasFraction[tng_M_barID]\n",
    "il1_unbarGasF = il1_GasFraction[il1_M_nobar_diskID]\n",
    "\n",
    "n_il1, bins, o = plt.hist(il1_unbarGasF, rwidth=0.9)\n",
    "n_tng = HistValAndBin(tng_barGasF, bins)\n",
    "\n",
    "np.sum(n_il1), np.sum(n_tng)"
   ]
  },
  {
   "cell_type": "code",
   "execution_count": 38,
   "metadata": {},
   "outputs": [
    {
     "data": {
      "image/png": "[encoded data removed]",
      "text/plain": [
       "<Figure size 432x288 with 1 Axes>"
      ]
     },
     "metadata": {
      "needs_background": "light"
     },
     "output_type": "display_data"
    }
   ],
   "source": [
    "#Plot Gas Histogram\n",
    "plt.bar(bins[:-1], n_tng, width=(bins[1] - bins[0])*0.9, align = 'edge',color='black', label='TNG barred galaxies')\n",
    "plt.bar(bins[:-1], n_il1, width=(bins[1] - bins[0])*0.9, align = 'edge', alpha=0.5,color='y', label='il1 unbarred disk galaxies')\n",
    "plt.title('TNG barred galaxies match Illustris-1 unbarred disk galaxies')\n",
    "plt.xlabel('Gas Fraction')\n",
    "plt.ylabel('N')\n",
    "plt.legend()\n",
    "#plt.savefig('f:/Linux/local_result/GasFraction_TNG_barred_il1_unbardisk.png',dpi=300)"
   ]
  },
  {
   "cell_type": "code",
   "execution_count": 8,
   "metadata": {},
   "outputs": [
    {
     "data": {
      "text/plain": [
       "([45, 97, 26, 10, 5, 1, 1, 1, 0, 0, 0, 0, 0],\n",
       " [59, 67, 40, 9, 7, 2, 2, 0, 0, 0, 0, 0, 0])"
      ]
     },
     "execution_count": 8,
     "metadata": {},
     "output_type": "execute_result"
    }
   ],
   "source": [
    "#Stellar Mass\n",
    "tng_barSM = np.log10(tng_StellarMass[tng_M_barID] * 10**10)\n",
    "il1_unbarSM = np.log10(il1_StellarMass[il1_M_nobar_diskID] * 10**10)\n",
    "\n",
    "SM_bins = np.arange(10, 13.5, 0.25)\n",
    "SM_tng = HistValAndBin(tng_barSM, SM_bins)\n",
    "SM_il1 = HistValAndBin(il1_unbarSM, SM_bins)\n",
    "SM_tng,SM_il1"
   ]
  },
  {
   "cell_type": "code",
   "execution_count": 35,
   "metadata": {},
   "outputs": [
    {
     "data": {
      "text/plain": [
       "(14, 180, 194, 180)"
      ]
     },
     "execution_count": 35,
     "metadata": {},
     "output_type": "execute_result"
    }
   ],
   "source": [
    "#check tng barred galaxies stellar particlses\n",
    "tng_Stellar = il.func.loadSubhalos('TNG', 99, 'SubhaloLenType')[:,4]\n",
    "smallhaloID = []\n",
    "for i in tng_M_barID:\n",
    "    if tng_Stellar[i] < 40000:\n",
    "        smallhaloID.append(i)\n",
    "\n",
    "\n",
    "tng_M_barID_big = []\n",
    "il1_M_nobar_diskID_big = []\n",
    "for i in tng_M_barID:\n",
    "    if i not in smallhaloID:\n",
    "        tng_M_barID_big.append(i)\n",
    "        il1_M_nobar_diskID_big.append(tng_bar_matched_il1_nobardisk[i])\n",
    "len(smallhaloID), len(tng_M_barID_big) , len(tng_M_barID), len(il1_M_nobar_diskID_big)"
   ]
  },
  {
   "cell_type": "code",
   "execution_count": 60,
   "metadata": {},
   "outputs": [
    {
     "data": {
      "text/plain": [
       "<matplotlib.legend.Legend at 0x19d2d407da0>"
      ]
     },
     "execution_count": 60,
     "metadata": {},
     "output_type": "execute_result"
    },
    {
     "data": {
      "image/png": "[encoded data removed]",
      "text/plain": [
       "<Figure size 432x288 with 2 Axes>"
      ]
     },
     "metadata": {
      "needs_background": "light"
     },
     "output_type": "display_data"
    }
   ],
   "source": [
    "tng_barGasF_big = tng_GasFraction[tng_M_barID_big]\n",
    "il1_unbarGasF_big = il1_GasFraction[il1_M_nobar_diskID_big]\n",
    "\n",
    "n_il1_big = HistValAndBin(il1_unbarGasF_big, bins)\n",
    "n_tng_big = HistValAndBin(tng_barGasF_big, bins)\n",
    "\n",
    "tng_frac = n_tng_big / np.sum(n_tng_big)\n",
    "il1_frac = n_il1_big / np.sum(n_il1_big)\n",
    "\n",
    "for i in range(1, len(tng_frac)):\n",
    "    tng_frac[i] += tng_frac[i-1]\n",
    "    il1_frac[i] += il1_frac[i-1]\n",
    "\n",
    "#Plot Gas Histogram\n",
    "fig = plt.figure()\n",
    "ax1 = fig.add_subplot(111)\n",
    "ax2 = ax1.twinx()\n",
    "ax1.bar(bins[:-1], n_tng_big, width=(bins[1] - bins[0])*0.9, align = 'edge',color='black', label='TNG barred galaxies')\n",
    "ax1.bar(bins[:-1], n_il1_big, width=(bins[1] - bins[0])*0.9, align = 'edge', alpha=0.5,color='y', label='il1 unbarred disk galaxies')\n",
    "ax1.set_title('TNG barred galaxies match Illustris-1 unbarred disk galaxies')\n",
    "ax1.set_xlabel('(Stellar particle > 40000 disk galaxies) Gas Fraction')\n",
    "ax1.set_ylabel('N')\n",
    "ax1.set_ylim(0,180)\n",
    "ax1.legend()\n",
    "\n",
    "p = (bins[1] - bins[0])*0.5\n",
    "ax2.plot(bins[:-1] + p, tng_frac, label='TNG', color = 'b')\n",
    "ax2.plot(bins[:-1] + p, il1_frac, label='Illsutris-1', color = 'r')\n",
    "ax2.scatter(bins[:-1] + p, tng_frac, color='b')\n",
    "ax2.scatter(bins[:-1] + p, il1_frac, color='r')\n",
    "ax2.set_ylim(0,1.3)\n",
    "ax2.legend(loc=2)\n",
    "# plt.savefig('f:/Linux/local_result/GasFraction_TNG_barred_il1_unbardisk_40000.png',dpi=300)"
   ]
  },
  {
   "cell_type": "code",
   "execution_count": 9,
   "metadata": {},
   "outputs": [
    {
     "data": {
      "image/png": "[encoded data removed]",
      "text/plain": [
       "<Figure size 432x288 with 1 Axes>"
      ]
     },
     "metadata": {
      "needs_background": "light"
     },
     "output_type": "display_data"
    }
   ],
   "source": [
    "#Plot Stellar Mass Hist\n",
    "plt.bar(SM_bins[:-1], SM_tng, width=(SM_bins[1] - SM_bins[0])*0.9, align = 'edge', color='k',label='TNG barred galaxies')\n",
    "plt.bar(SM_bins[:-1], SM_il1, width=(SM_bins[1] - SM_bins[0])*0.9, align = 'edge', color='y', alpha = 0.7,label='il1 unbarred disk galaxies')\n",
    "plt.title('TNG barred galaxies match Illustris-1 unbarred disk galaxies')\n",
    "plt.xlabel('Stellar Mass')\n",
    "plt.ylabel('N')\n",
    "plt.legend()\n",
    "#plt.savefig('f:/Linux/local_result/StellarMass_TNG_barred_il1_unbardisk.png',dpi=300)"
   ]
  },
  {
   "cell_type": "code",
   "execution_count": 10,
   "metadata": {
    "scrolled": true
   },
   "outputs": [
    {
     "data": {
      "text/plain": [
       "(186.0, 185)"
      ]
     },
     "execution_count": 10,
     "metadata": {},
     "output_type": "execute_result"
    },
    {
     "data": {
      "image/png": "[encoded data removed]",
      "text/plain": [
       "<Figure size 432x288 with 1 Axes>"
      ]
     },
     "metadata": {
      "needs_background": "light"
     },
     "output_type": "display_data"
    }
   ],
   "source": [
    "#SFR\n",
    "tng_barSFR = tng_SFR[tng_M_barID]\n",
    "il1_unbarSFR = il1_SFR[il1_M_nobar_diskID]\n",
    "\n",
    "\n",
    "SFR_tng, SFR_bins, o = plt.hist(tng_barSFR, rwidth=0.9)\n",
    "SFR_il1 = HistValAndBin(il1_unbarSFR, SFR_bins)\n",
    "SFR_il1 = np.array(SFR_il1)\n",
    "np.sum(SFR_tng), np.sum(SFR_il1)"
   ]
  },
  {
   "cell_type": "code",
   "execution_count": 11,
   "metadata": {},
   "outputs": [
    {
     "data": {
      "image/png": "[encoded data removed]",
      "text/plain": [
       "<Figure size 432x288 with 1 Axes>"
      ]
     },
     "metadata": {
      "needs_background": "light"
     },
     "output_type": "display_data"
    }
   ],
   "source": [
    "#Plot SFR Hist\n",
    "plt.bar(SFR_bins[:-1], SFR_tng, width=(SFR_bins[1] - SFR_bins[0])*0.9, align = 'edge', color='k',label='TNG barred galaxies')\n",
    "plt.bar(SFR_bins[:-1], SFR_il1, width=(SFR_bins[1] - SFR_bins[0])*0.9, align = 'edge', color='y', alpha = 0.7,label='il1 unbarred disk galaxies')\n",
    "plt.title('TNG barred galaxies match Illustris-1 unbarred disk galaxies')\n",
    "plt.xlabel('Star Formation Rate')\n",
    "plt.ylabel('N')\n",
    "plt.legend()\n",
    "#plt.savefig('f:/Linux/local_result/SFR_TNG_barred_il1_unbardisk.png',dpi=300)"
   ]
  },
  {
   "cell_type": "code",
   "execution_count": 19,
   "metadata": {},
   "outputs": [
    {
     "data": {
      "text/plain": [
       "24"
      ]
     },
     "execution_count": 19,
     "metadata": {},
     "output_type": "execute_result"
    }
   ],
   "source": [
    "#TNG barred vs. Illustris-1 barred\n",
    "tng_Matched_BID = []\n",
    "il1_Matched_BID = []\n",
    "for i in tng_bar_matched_il1bar.keys():\n",
    "    tng_Matched_BID.append(i)\n",
    "    il1_Matched_BID.append(tng_bar_matched_il1bar[i])"
   ]
  },
  {
   "cell_type": "code",
   "execution_count": 20,
   "metadata": {},
   "outputs": [
    {
     "data": {
      "text/plain": [
       "(24, 24)"
      ]
     },
     "execution_count": 20,
     "metadata": {},
     "output_type": "execute_result"
    }
   ],
   "source": [
    "#GasFraction\n",
    "tng_MB_GasF = tng_GasFraction[tng_Matched_BID]\n",
    "il1_MB_GasF = il1_GasFraction[il1_Matched_BID]\n",
    "\n",
    "tng_GF = HistValAndBin(tng_MB_GasF, bins)\n",
    "il1_GF = HistValAndBin(il1_MB_GasF, bins)\n",
    "np.sum(tng_GF), np.sum(il1_GF)"
   ]
  },
  {
   "cell_type": "code",
   "execution_count": 14,
   "metadata": {},
   "outputs": [
    {
     "data": {
      "text/plain": [
       "<matplotlib.legend.Legend at 0x19d2aefc6d8>"
      ]
     },
     "execution_count": 14,
     "metadata": {},
     "output_type": "execute_result"
    },
    {
     "data": {
      "image/png": "[encoded data removed]",
      "text/plain": [
       "<Figure size 432x288 with 1 Axes>"
      ]
     },
     "metadata": {
      "needs_background": "light"
     },
     "output_type": "display_data"
    }
   ],
   "source": [
    "#Plot Gas Histogram\n",
    "plt.bar(bins[:-1], tng_GF, width=(bins[1] - bins[0])*0.9, align = 'edge',color='black', label='TNG barred galaxies')\n",
    "plt.bar(bins[:-1], il1_GF, width=(bins[1] - bins[0])*0.9, align = 'edge', alpha=0.5,color='y', label='il1 unbarred disk galaxies')\n",
    "plt.title('TNG barred galaxies match Illustris-1 barred galaxies')\n",
    "plt.xlabel('Gas Fraction')\n",
    "plt.ylabel('N')\n",
    "plt.legend()\n",
    "#plt.savefig('f:/Linux/local_result/GasFraction_TNG_barred_il1_unbardisk.png',dpi=300)"
   ]
  },
  {
   "cell_type": "code",
   "execution_count": 18,
   "metadata": {},
   "outputs": [
    {
     "data": {
      "text/plain": [
       "(24, 24, 24)"
      ]
     },
     "execution_count": 18,
     "metadata": {},
     "output_type": "execute_result"
    }
   ],
   "source": [
    "#Stellar Mass\n",
    "tng_M_barSM = np.log10(tng_StellarMass[tng_Matched_BID] * 10**10)\n",
    "il1_M_barSM = np.log10(il1_StellarMass[il1_Matched_BID] * 10**10)\n",
    "\n",
    "tng_M_SM = HistValAndBin(tng_M_barSM, SM_bins)\n",
    "il1_M_SM = HistValAndBin(il1_M_barSM, SM_bins)\n",
    "np.sum(tng_M_SM), np.sum(il1_M_SM), len(tng_Matched_BID)"
   ]
  },
  {
   "cell_type": "code",
   "execution_count": 21,
   "metadata": {},
   "outputs": [
    {
     "data": {
      "text/plain": [
       "<matplotlib.legend.Legend at 0x19d2afc6ba8>"
      ]
     },
     "execution_count": 21,
     "metadata": {},
     "output_type": "execute_result"
    },
    {
     "data": {
      "image/png": "[encoded data removed]",
      "text/plain": [
       "<Figure size 432x288 with 1 Axes>"
      ]
     },
     "metadata": {
      "needs_background": "light"
     },
     "output_type": "display_data"
    }
   ],
   "source": [
    "#Plot Stellar Mass Histogram\n",
    "plt.bar(SM_bins[:-1], tng_M_SM, width=(SM_bins[1] - SM_bins[0])*0.9, align = 'edge',color='black', label='TNG barred galaxies')\n",
    "plt.bar(SM_bins[:-1], il1_M_SM, width=(SM_bins[1] - SM_bins[0])*0.9, align = 'edge', alpha=0.5,color='y', label='il1 unbarred disk galaxies')\n",
    "plt.title('TNG barred galaxies match Illustris-1 barred galaxies')\n",
    "plt.xlabel('Stellar Mass')\n",
    "plt.ylabel('N')\n",
    "plt.legend()\n",
    "#plt.savefig('f:/Linux/local_result/GasFraction_TNG_barred_il1_unbardisk.png',dpi=300)"
   ]
  },
  {
   "cell_type": "code",
   "execution_count": 23,
   "metadata": {},
   "outputs": [
    {
     "data": {
      "text/plain": [
       "<matplotlib.legend.Legend at 0x19d2acfa2b0>"
      ]
     },
     "execution_count": 23,
     "metadata": {},
     "output_type": "execute_result"
    },
    {
     "data": {
      "image/png": "[encoded data removed]",
      "text/plain": [
       "<Figure size 432x288 with 1 Axes>"
      ]
     },
     "metadata": {
      "needs_background": "light"
     },
     "output_type": "display_data"
    }
   ],
   "source": [
    "#SFR\n",
    "tng_M_SFR = tng_SFR[tng_Matched_BID]\n",
    "il1_M_SFR = il1_SFR[il1_Matched_BID]\n",
    "\n",
    "tng_M_SFR = HistValAndBin(tng_M_SFR, SFR_bins)\n",
    "il1_M_SFR = HistValAndBin(il1_M_SFR, SFR_bins)\n",
    "\n",
    "#Plot Stellar Mass Histogram\n",
    "plt.bar(SFR_bins[:-1], tng_M_SFR, width=(SFR_bins[1] - SFR_bins[0])*0.9, align = 'edge',color='black', label='TNG barred galaxies')\n",
    "plt.bar(SFR_bins[:-1], il1_M_SFR, width=(SFR_bins[1] - SFR_bins[0])*0.9, align = 'edge', alpha=0.5,color='y', label='il1 unbarred disk galaxies')\n",
    "plt.title('TNG barred galaxies match Illustris-1 barred galaxies')\n",
    "plt.xlabel('SFR')\n",
    "plt.ylabel('N')\n",
    "plt.legend()"
   ]
  },
  {
   "cell_type": "code",
   "execution_count": null,
   "metadata": {},
   "outputs": [],
   "source": [
    "#TNG disk galaxies matched Illustris-1 not disk galaxies\n",
    "tng_matched_il1_nodiskID = []\n",
    "il1_matched_nodiskID = []\n",
    "for i in tng_matched_il1notdisk.keys():\n",
    "    tng_matched_il1_nodiskID.append(i)\n",
    "    il1_matched_nodiskID.append(tng_matched_il1notdisk[i])\n",
    "tng_matched_nodisk_SM = tng_StellarMass[tng_matched_il1notdisk]\n",
    "il1_matched_nodisk_SM = il1_StellarMass[]\n"
   ]
  },
  {
   "cell_type": "code",
   "execution_count": 71,
   "metadata": {},
   "outputs": [
    {
     "data": {
      "image/png": "[encoded data removed]",
      "text/plain": [
       "<Figure size 432x288 with 2 Axes>"
      ]
     },
     "metadata": {
      "needs_background": "light"
     },
     "output_type": "display_data"
    }
   ],
   "source": [
    "#TNG-il1 all disk galaxies gas fraction\n",
    "big = []\n",
    "for i in tngdisk:\n",
    "    if tng_Stellar[i] > 40000:\n",
    "        big.append(i)\n",
    "\n",
    "tng_gas = tng_GasFraction[big]\n",
    "il1_gas = il1_GasFraction[il1disk]\n",
    "\n",
    "n_tng_disk = HistValAndBin(tng_gas, bins)\n",
    "n_il1_disk = HistValAndBin(il1_gas, bins) \n",
    "\n",
    "tng_disk_frac = n_tng_disk / np.sum(n_tng_disk)\n",
    "il1_disk_frac = n_il1_disk / np.sum(n_il1_disk)\n",
    "\n",
    "for i in range(1, len(tng_frac)):\n",
    "    tng_disk_frac[i] += tng_disk_frac[i-1]\n",
    "    il1_disk_frac[i] += il1_disk_frac[i-1]\n",
    "\n",
    "#Plot Gas Histogram\n",
    "fig = plt.figure()\n",
    "ax1 = fig.add_subplot(111)\n",
    "ax2 = ax1.twinx()\n",
    "ax1.bar(bins[:-1], n_tng_disk, width=(bins[1] - bins[0])*0.9, align = 'edge',color='black', label='TNG disk galaxies')\n",
    "ax1.bar(bins[:-1], n_il1_disk, width=(bins[1] - bins[0])*0.9, align = 'edge', alpha=0.5,color='y', label='il1 disk galaxies')\n",
    "ax1.set_title('TNG / il1 disk galaxies Gas Fraction')\n",
    "ax1.set_xlabel('(Stellar particle > 40000 disk galaxies) Gas Fraction')\n",
    "ax1.set_ylabel('N')\n",
    "# ax1.set_ylim(0,300)\n",
    "ax1.legend()\n",
    "\n",
    "p = (bins[1] - bins[0])*0.5\n",
    "ax2.plot(bins[:-1] + p, tng_disk_frac, label='TNG', color = 'b')\n",
    "ax2.plot(bins[:-1] + p, il1_disk_frac, label='Illsutris-1', color = 'r')\n",
    "ax2.scatter(bins[:-1] + p, tng_disk_frac, color='b')\n",
    "ax2.scatter(bins[:-1] + p, il1_disk_frac, color='r')\n",
    "ax2.set_ylim(0,1.3)\n",
    "ax2.legend(loc=2)\n",
    "#plt.savefig('f:/Linux/local_result/TNG_il1_disk_galaxies_GasFraction.png',dpi=300)"
   ]
  },
  {
   "cell_type": "code",
   "execution_count": 2,
   "metadata": {},
   "outputs": [],
   "source": [
    "#angular momentum\n",
    "il1_stellarAng = np.load('f:/Linux/localRUN/il1_stellarAng.npy')\n",
    "tng_stellarAng = np.load('f:/Linux/localRUN/tng_StellarAng.npy')"
   ]
  },
  {
   "cell_type": "code",
   "execution_count": 20,
   "metadata": {},
   "outputs": [],
   "source": [
    "tng_Arg = []\n",
    "for i in tng_barred:\n",
    "    tng_Arg.append(np.where(tngdisk==i)[0][0])\n",
    "    \n",
    "tng_Arg = np.array(tng_Arg)\n",
    "\n",
    "il1_Arg = []\n",
    "for i in il1_barred:\n",
    "    il1_Arg.append(np.where(il1disk==i)[0][0])\n",
    "    \n",
    "il1_Arg = np.array(il1_Arg)"
   ]
  },
  {
   "cell_type": "code",
   "execution_count": 29,
   "metadata": {},
   "outputs": [],
   "source": [
    "il1_Jsp = il1_stellarAng / il1_StellarMass[il1disk, np.newaxis]\n",
    "tng_Jsp = tng_stellarAng / tng_StellarMass[tngdisk, np.newaxis]\n",
    "\n",
    "il1_barJsp = np.linalg.norm(il1_Jsp[il1_Arg], axis = 1)\n",
    "tng_barJsp = np.linalg.norm(tng_Jsp[tng_Arg], axis = 1)"
   ]
  },
  {
   "cell_type": "code",
   "execution_count": 35,
   "metadata": {},
   "outputs": [
    {
     "data": {
      "image/png": "[encoded data removed]",
      "text/plain": [
       "<Figure size 432x288 with 1 Axes>"
      ]
     },
     "metadata": {
      "needs_background": "light"
     },
     "output_type": "display_data"
    }
   ],
   "source": [
    "n, bins, o = plt.hist(il1_barJsp, 10, rwidth=0.9)"
   ]
  },
  {
   "cell_type": "code",
   "execution_count": 36,
   "metadata": {},
   "outputs": [
    {
     "data": {
      "image/png": "[encoded data removed]",
      "text/plain": [
       "<Figure size 432x288 with 1 Axes>"
      ]
     },
     "metadata": {
      "needs_background": "light"
     },
     "output_type": "display_data"
    }
   ],
   "source": [
    "n, bins, o = plt.hist(tng_barJsp, 10, rwidth=0.9)"
   ]
  },
  {
   "cell_type": "code",
   "execution_count": null,
   "metadata": {},
   "outputs": [],
   "source": []
  }
 ],
 "metadata": {
  "kernelspec": {
   "display_name": "Python 3",
   "language": "python",
   "name": "python3"
  },
  "language_info": {
   "codemirror_mode": {
    "name": "ipython",
    "version": 3
   },
   "file_extension": ".py",
   "mimetype": "text/x-python",
   "name": "python",
   "nbconvert_exporter": "python",
   "pygments_lexer": "ipython3",
   "version": "3.7.1"
  }
 },
 "nbformat": 4,
 "nbformat_minor": 2
}
